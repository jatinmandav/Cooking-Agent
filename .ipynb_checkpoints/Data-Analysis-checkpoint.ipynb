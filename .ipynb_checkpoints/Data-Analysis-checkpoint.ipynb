{
 "cells": [
  {
   "cell_type": "code",
   "execution_count": 1,
   "metadata": {},
   "outputs": [],
   "source": [
    "import pandas as pd\n",
    "import string\n",
    "\n",
    "from tqdm import tqdm_notebook\n",
    "\n",
    "import nltk\n",
    "from nltk.stem import WordNetLemmatizer, PorterStemmer"
   ]
  },
  {
   "cell_type": "code",
   "execution_count": 2,
   "metadata": {},
   "outputs": [],
   "source": [
    "file_path = 'dataset/processed_recipes.tsv'"
   ]
  },
  {
   "cell_type": "code",
   "execution_count": 3,
   "metadata": {},
   "outputs": [],
   "source": [
    "action_words = ['break', 'melt', 'spread', 'layer', 'roll out',\n",
    "                'fry', 'peel', 'mix', 'whip', 'saute', 'taste',\n",
    "                'cut', 'chop', 'slice', 'grate', 'boil', 'steam',\n",
    "                'pinch', 'pour', 'add', 'barbeque', 'roast', 'bake',\n",
    "                'stir', 'weigh']\n",
    "\n",
    "def get_action_words(text):\n",
    "    text = [char for char in text.split(' ') if char != '']\n",
    "    tags = nltk.pos_tag(text)\n",
    "    action_words = []\n",
    "    not_action_words = []\n",
    "    for tag in tags:\n",
    "        if tag[1] == 'NNP':\n",
    "            if tag[0].lower() in action_words:\n",
    "                action_words.append(tag[0].lower())\n",
    "            else:\n",
    "                not_action_words.append(tag[0].lower())\n",
    "            \n",
    "    return action_words, not_action_words"
   ]
  },
  {
   "cell_type": "code",
   "execution_count": 4,
   "metadata": {},
   "outputs": [
    {
     "data": {
      "application/vnd.jupyter.widget-view+json": {
       "model_id": "6db35d5a933849c8a8d9d9b460417509",
       "version_major": 2,
       "version_minor": 0
      },
      "text/plain": [
       "HBox(children=(IntProgress(value=0, max=952), HTML(value='')))"
      ]
     },
     "metadata": {},
     "output_type": "display_data"
    },
    {
     "name": "stdout",
     "output_type": "stream",
     "text": [
      "\n"
     ]
    }
   ],
   "source": [
    "df = pd.read_csv(file_path, sep='\\t', lineterminator='\\n')\n",
    "\n",
    "all_action_words = []\n",
    "all_not_action_words = []\n",
    "for index in tqdm_notebook(range(len(df))):\n",
    "    title = df.title[index]\n",
    "    ingredients = df.ingredients[index].split('|')\n",
    "    ingredients = [ing for ing in ingredients if 'Add' not in ing]\n",
    "    directions = df.directions[index]\n",
    "    a, na = get_action_words(directions)\n",
    "    all_not_action_words += na\n",
    "    all_action_words += a"
   ]
  },
  {
   "cell_type": "code",
   "execution_count": 5,
   "metadata": {},
   "outputs": [
    {
     "data": {
      "text/plain": [
       "set()"
      ]
     },
     "execution_count": 5,
     "metadata": {},
     "output_type": "execute_result"
    }
   ],
   "source": [
    "set(all_action_words)"
   ]
  },
  {
   "cell_type": "code",
   "execution_count": null,
   "metadata": {},
   "outputs": [],
   "source": []
  }
 ],
 "metadata": {
  "kernelspec": {
   "display_name": "Python 3",
   "language": "python",
   "name": "python3"
  },
  "language_info": {
   "codemirror_mode": {
    "name": "ipython",
    "version": 3
   },
   "file_extension": ".py",
   "mimetype": "text/x-python",
   "name": "python",
   "nbconvert_exporter": "python",
   "pygments_lexer": "ipython3",
   "version": "3.6.8"
  }
 },
 "nbformat": 4,
 "nbformat_minor": 2
}
