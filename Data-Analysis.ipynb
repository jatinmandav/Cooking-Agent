{
 "cells": [
  {
   "cell_type": "code",
   "execution_count": 1,
   "metadata": {},
   "outputs": [],
   "source": [
    "import pandas as pd\n",
    "import string\n",
    "\n",
    "from tqdm import tqdm_notebook\n",
    "\n",
    "import nltk\n",
    "from nltk.stem import WordNetLemmatizer, PorterStemmer"
   ]
  },
  {
   "cell_type": "code",
   "execution_count": 2,
   "metadata": {},
   "outputs": [],
   "source": [
    "file_path = 'dataset/processed_recipes.tsv'"
   ]
  },
  {
   "cell_type": "code",
   "execution_count": 17,
   "metadata": {},
   "outputs": [],
   "source": [
    "action_words = ['break', 'melt', 'spread', 'layer', 'roll out',\n",
    "                'fry', 'peel', 'mix', 'whip', 'saute', 'taste',\n",
    "                'cut', 'chop', 'slice', 'grate', 'boil', 'steam',\n",
    "                'pinch', 'pour', 'add', 'barbeque', 'roast', 'bake',\n",
    "                'stir', 'weigh', 'whisk', 'cmobine', 'fold']\n",
    "\n",
    "def get_action_words(text):\n",
    "    text = [char for char in text.split(' ') if char != '']\n",
    "    tags = nltk.pos_tag(text)\n",
    "    action_words_list = []\n",
    "    not_action_words_list = []\n",
    "    for tag in tags:\n",
    "        if tag[1] == 'NNP':\n",
    "            if tag[0].lower() in action_words:\n",
    "                action_words_list.append(tag[0].lower())\n",
    "            else:\n",
    "                not_action_words_list.append(tag[0].lower())\n",
    "            \n",
    "    return action_words_list, not_action_words_list"
   ]
  },
  {
   "cell_type": "code",
   "execution_count": 18,
   "metadata": {},
   "outputs": [
    {
     "data": {
      "application/vnd.jupyter.widget-view+json": {
       "model_id": "6129428fb5f14f269b78acdeea990116",
       "version_major": 2,
       "version_minor": 0
      },
      "text/plain": [
       "HBox(children=(IntProgress(value=0, max=10), HTML(value='')))"
      ]
     },
     "metadata": {},
     "output_type": "display_data"
    },
    {
     "name": "stdout",
     "output_type": "stream",
     "text": [
      "\n"
     ]
    }
   ],
   "source": [
    "df = pd.read_csv(file_path, sep='\\t', lineterminator='\\n').head(10)\n",
    "\n",
    "all_action_words = []\n",
    "all_not_action_words = []\n",
    "for index in tqdm_notebook(range(len(df))):\n",
    "    title = df.title[index]\n",
    "    ingredients = df.ingredients[index].split('|')\n",
    "    ingredients = [ing for ing in ingredients if 'Add' not in ing]\n",
    "    directions = df.directions[index]\n",
    "    a, na = get_action_words(directions)\n",
    "    all_not_action_words += na\n",
    "    all_action_words += a"
   ]
  },
  {
   "cell_type": "code",
   "execution_count": 19,
   "metadata": {},
   "outputs": [
    {
     "data": {
      "text/plain": [
       "{'add',\n",
       " 'bake',\n",
       " 'cut',\n",
       " 'fold',\n",
       " 'fry',\n",
       " 'mix',\n",
       " 'pour',\n",
       " 'saute',\n",
       " 'spread',\n",
       " 'stir',\n",
       " 'whisk'}"
      ]
     },
     "execution_count": 19,
     "metadata": {},
     "output_type": "execute_result"
    }
   ],
   "source": [
    "set(all_action_words)"
   ]
  },
  {
   "cell_type": "code",
   "execution_count": 20,
   "metadata": {},
   "outputs": [
    {
     "data": {
      "text/plain": [
       "{'arrange',\n",
       " 'bring',\n",
       " 'brussels',\n",
       " 'c',\n",
       " 'combine',\n",
       " 'cook',\n",
       " 'cover',\n",
       " 'curry',\n",
       " 'deep',\n",
       " 'dissolve',\n",
       " 'divide',\n",
       " 'f',\n",
       " 'fill',\n",
       " 'greek',\n",
       " 'heat',\n",
       " 'lie',\n",
       " 'mild',\n",
       " 'moisten',\n",
       " 'paste',\n",
       " 'patak',\n",
       " 'place',\n",
       " 'pull',\n",
       " 'reduce',\n",
       " 'roll',\n",
       " 'season',\n",
       " 'serve',\n",
       " 'set',\n",
       " 'sift',\n",
       " 'spoon',\n",
       " 'trim',\n",
       " 'uncover'}"
      ]
     },
     "execution_count": 20,
     "metadata": {},
     "output_type": "execute_result"
    }
   ],
   "source": [
    "set(all_not_action_words)"
   ]
  },
  {
   "cell_type": "code",
   "execution_count": null,
   "metadata": {},
   "outputs": [],
   "source": [
    "action_words = ['arrange','baste','beat','blend','brown','build','bury','carve','check','chop','close','cool','correct','cover','crumple','cut','decorate','discard','divide','drape','drop','dry','film','fold','follow','form','force','glaze','insert','lay','leave','lift','make','melt','mince','mix','moisten','mound','open','pack','paint','pierce','pour','prepare','press','prick','pull','puree','push','quarter','raise','reduce','refresh','reheat','replace','return','ring','roast','roll','salt','saute','scatter','scoop','scrape','scrub','season','separate','set','settle','shave','simmer','skim','slice','slide','slip','slit','smear','soak','spoon','spread','sprinkle','stir','strain','strew','stuff','surround','taste','thin','tie','tilt','tip','top','toss','trim','turn','twist','warm','wilt','wind','wrap']"
   ]
  }
 ],
 "metadata": {
  "kernelspec": {
   "display_name": "Python 3",
   "language": "python",
   "name": "python3"
  },
  "language_info": {
   "codemirror_mode": {
    "name": "ipython",
    "version": 3
   },
   "file_extension": ".py",
   "mimetype": "text/x-python",
   "name": "python",
   "nbconvert_exporter": "python",
   "pygments_lexer": "ipython3",
   "version": "3.6.8"
  }
 },
 "nbformat": 4,
 "nbformat_minor": 2
}